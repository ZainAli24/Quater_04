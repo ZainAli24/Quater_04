{
  "nbformat": 4,
  "nbformat_minor": 0,
  "metadata": {
    "colab": {
      "provenance": [],
      "toc_visible": true,
      "authorship_tag": "ABX9TyO+ZVWAcICWFtAIZqZSTCpJ",
      "include_colab_link": true
    },
    "kernelspec": {
      "name": "python3",
      "display_name": "Python 3"
    },
    "language_info": {
      "name": "python"
    }
  },
  "cells": [
    {
      "cell_type": "markdown",
      "metadata": {
        "id": "view-in-github",
        "colab_type": "text"
      },
      "source": [
        "<a href=\"https://colab.research.google.com/github/ZainAli24/Quater_04/blob/main/Class_04_Dataclass%2C_Generics_and_Callable_in_Python_.ipynb\" target=\"_parent\"><img src=\"https://colab.research.google.com/assets/colab-badge.svg\" alt=\"Open In Colab\"/></a>"
      ]
    },
    {
      "cell_type": "markdown",
      "source": [
        "# **1. TypeVar and Generic in python:**\n",
        "\n",
        "Aapke sawal mein aapne poocha hai ke Python mein `TypeVar` aur `Generic` kya hain aur yeh kis kaam aate hain, aur isko example ke saath samjhaane ke liye kaha hai. Chaliye ise step-by-step aur simple tareeke se samajhte hain.\n",
        "\n",
        "---\n",
        "\n",
        "### **TypeVar Kya Hai?**\n",
        "`TypeVar` Python ke `typing` module ka ek tool hai jo **generic types** define karne ke liye use hota hai. Yeh ek tarah ka placeholder hota hai, jiska matlab hai ke aap isse ek type variable bana sakte hain jo baad mein kisi bhi specific type (jaise `int`, `str`, ya koi aur) ko represent kar sakta hai. Iska fayda yeh hai ke aap apne code ko flexible bana sakte hain taki woh alag-alag data types ke saath kaam kar sake.\n",
        "\n",
        "- **Kaam**: `TypeVar` ka use functions ya classes mein hota hai jab aap chahte hain ke woh multiple types ke saath kaam karein bina type safety khone ke.\n",
        "\n",
        "---\n",
        "\n",
        "### **Generic Kya Hai?**\n",
        "`Generic` bhi `typing` module ka hissa hai aur yeh batata hai ke aapki class ya function **generic** hai, yani woh `TypeVar` ke through define kiye gaye type variable ke saath kaam kar sakta hai. Jab aap `Generic` ka use karte hain, toh aap apne code ko reusable aur type-safe banate hain.\n",
        "\n",
        "- **Kaam**: Yeh multiple types ke saath kaam karne wale classes ya functions banane mein madad karta hai, jisse code repetition kam hota hai.\n",
        "\n",
        "---\n",
        "\n",
        "### **Inka Kaam Ek Saath**\n",
        "`TypeVar` aur `Generic` mil kar kaam karte hain taki aap ek aisa structure bana sakein jo kisi bhi type ke saath kaam kar sake, lekin phir bhi type checker (jaise `mypy`) ko yeh samajh aaye ke kaunsa type use ho raha hai. Yeh modern programming mein type hinting ke liye bahut useful hai.\n",
        "\n",
        "---\n",
        "\n",
        "### **Example Ke Saath Samjhiye**\n",
        "Chaliye ek chhota sa example dekhte hain jo `TypeVar` aur `Generic` ka use karta hai:\n",
        "\n",
        "```python\n",
        "from typing import TypeVar, Generic\n",
        "\n",
        "# Ek type variable banate hain jiska naam 'T' hai\n",
        "T = TypeVar('T')\n",
        "\n",
        "# Ek generic class banate hain jo 'T' type ko use karegi\n",
        "class Box(Generic[T]):\n",
        "    def __init__(self, value: T):\n",
        "        self.value = value\n",
        "\n",
        "    def get_value(self) -> T:\n",
        "        return self.value\n",
        "\n",
        "# Ab is class ko alag-alag types ke saath use karte hain\n",
        "int_box = Box[int](5)  # Yeh Box integers ke liye hai\n",
        "str_box = Box[str](\"Hello\")  # Yeh Box strings ke liye hai\n",
        "\n",
        "# Values print karte hain\n",
        "print(int_box.get_value())  # Output: 5\n",
        "print(str_box.get_value())  # Output: Hello\n",
        "```\n",
        "\n",
        "---\n",
        "\n",
        "### **Is Example Ki Samajh**\n",
        "1. **`T = TypeVar('T')`**:\n",
        "   - Yeh ek type variable `T` banata hai jo kisi bhi type ko represent kar sakta hai (jaise `int`, `str`, etc.).\n",
        "\n",
        "2. **`class Box(Generic[T])`**:\n",
        "   - Yeh batata hai ke `Box` class generic hai aur `T` type ke saath kaam karegi. Yani, jab aap `Box` ka object banayenge, toh aap specify kar sakte hain ke `T` kya hoga.\n",
        "\n",
        "3. **`Box[int]` aur `Box[str]`**:\n",
        "   - `int_box` banate waqt humne kaha ke `T` hoga `int`, toh yeh sirf integers ke saath kaam karega.\n",
        "   - `str_box` banate waqt humne kaha ke `T` hoga `str`, toh yeh sirf strings ke saath kaam karega.\n",
        "\n",
        "4. **`get_value()`**:\n",
        "   - Yeh method wahi type return karta hai jo `T` ke roop mein specify kiya gaya hai, yani `int_box` ke liye `int` aur `str_box` ke liye `str`.\n",
        "\n",
        "---\n",
        "\n",
        "### **Fayda**\n",
        "- **Flexibility**: Ek hi `Box` class ko humne `int` aur `str` dono ke liye use kiya.\n",
        "- **Type Safety**: Agar aap `int_box` mein string dalne ki koshish karenge (jaise `int_box = Box[int](\"Hello\")`), toh type checker error dega.\n",
        "- **Reusability**: Code repeat karne ki zarurat nahi padi, ek hi class alag-alag types ke liye kaam kar gayi.\n",
        "\n",
        "---\n",
        "\n",
        "### **Conclusion**\n",
        "`TypeVar` aur `Generic` ka use Python mein type hinting ke liye hota hai taki aap apne code ko flexible, reusable, aur type-safe bana sakein.\n",
        "\n",
        "----------------"
      ],
      "metadata": {
        "id": "V9z20_kGx6rx"
      }
    },
    {
      "cell_type": "code",
      "source": [
        "from typing import TypeVar\n",
        "\n",
        "T = TypeVar('T')   # T is a Placeholder for any type.\n",
        "\n",
        "\n",
        "def multiple_handle(Item:list[T])-> T:\n",
        "  return Item[0]\n",
        "\n",
        "\n",
        "num = [1,3,4,5,6]\n",
        "strr = [\"a\", \"b\", \"g\", \"d\"]\n",
        "\n",
        "\n",
        "res_int = multiple_handle(num)\n",
        "res_str = multiple_handle(strr)\n",
        "\n",
        "print(res_int)\n",
        "print(res_str)"
      ],
      "metadata": {
        "colab": {
          "base_uri": "https://localhost:8080/"
        },
        "id": "PnfycW5ryJmO",
        "outputId": "e7ad7b5c-50cf-4a9a-bfa8-e8467ff7d2f5"
      },
      "execution_count": 1,
      "outputs": [
        {
          "output_type": "stream",
          "name": "stdout",
          "text": [
            "1\n",
            "a\n"
          ]
        }
      ]
    },
    {
      "cell_type": "code",
      "source": [
        "from typing import TypeVar\n",
        "\n",
        "K = TypeVar('K')\n",
        "V = TypeVar('V')\n",
        "\n",
        "\n",
        "abc = {\"a\":12, \"b\":45}\n",
        "\n",
        "def Dict(container:dict[K,V], Key:K)-> V:\n",
        "  return container[Key]\n",
        "\n",
        "\n",
        "res = Dict(abc, 'b')\n",
        "print(res)\n"
      ],
      "metadata": {
        "colab": {
          "base_uri": "https://localhost:8080/"
        },
        "id": "VJ4R_gsdY_J2",
        "outputId": "43aabc66-ccd7-4ece-d595-7fe631ef3465"
      },
      "execution_count": 9,
      "outputs": [
        {
          "output_type": "stream",
          "name": "stdout",
          "text": [
            "45\n"
          ]
        }
      ]
    },
    {
      "cell_type": "markdown",
      "source": [
        "## **Use Generics with Classes:**\n"
      ],
      "metadata": {
        "id": "ROp4HYkl51iv"
      }
    },
    {
      "cell_type": "code",
      "source": [
        "from typing import Generic, TypeVar, ClassVar\n",
        "from dataclasses import dataclass,field\n",
        "\n",
        "\n",
        "T  = TypeVar('T')\n",
        "\n",
        "\n",
        "@dataclass\n",
        "class GenClass(Generic[T]):\n",
        "  Item:list[T] = field(default_factory=list)\n",
        "  limit:ClassVar[int] = 10\n",
        "\n",
        "  def Push(self, item:T) -> None:\n",
        "    return self.Item.append(item)\n",
        "\n",
        "  def Pop(self) -> T:\n",
        "    return self.Item.pop()\n",
        "\n",
        "\n",
        "res = GenClass[int]()\n",
        "res.Push(1)\n",
        "res.Push(2)\n",
        "res.Push(3)\n",
        "res.Push(4)\n",
        "res.Push(5)\n",
        "print(res)\n",
        "\n",
        "res.Pop()\n",
        "print(res)\n",
        "\n",
        "\n",
        "res2 = GenClass[str]()\n",
        "res2.Push(\"a\")\n",
        "res2.Push(\"b\")\n",
        "res2.Push(\"c\")\n",
        "res2.Push(\"d\")\n",
        "print(res2)\n",
        "\n",
        "res2.Pop()\n",
        "print(res2)\n"
      ],
      "metadata": {
        "colab": {
          "base_uri": "https://localhost:8080/"
        },
        "id": "3OvAabP-zZpk",
        "outputId": "009cd43e-bf3f-4585-8b1a-1cc715063272"
      },
      "execution_count": 22,
      "outputs": [
        {
          "output_type": "stream",
          "name": "stdout",
          "text": [
            "GenClass(Item=[1, 2, 3, 4, 5])\n",
            "GenClass(Item=[1, 2, 3, 4])\n",
            "GenClass(Item=['a', 'b', 'c', 'd'])\n",
            "GenClass(Item=['a', 'b', 'c'])\n"
          ]
        }
      ]
    }
  ]
}